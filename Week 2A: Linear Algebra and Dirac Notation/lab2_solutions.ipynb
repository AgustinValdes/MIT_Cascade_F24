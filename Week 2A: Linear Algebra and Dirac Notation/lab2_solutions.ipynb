{
 "cells": [
  {
   "cell_type": "markdown",
   "metadata": {},
   "source": [
    "## 1) Bras and Kets in QuTiP"
   ]
  },
  {
   "cell_type": "markdown",
   "metadata": {},
   "source": [
    "We'll start by importing everything from QuTiP and defining out basis states (vectors) $|0\\rangle$ and $|1\\rangle$:"
   ]
  },
  {
   "cell_type": "code",
   "execution_count": 1,
   "metadata": {},
   "outputs": [],
   "source": [
    "from qutip import *\n",
    "ket0 = basis(2,0)\n",
    "ket1 = basis(2,1)"
   ]
  },
  {
   "cell_type": "markdown",
   "metadata": {},
   "source": [
    "a) From these kets, define their corresponding bras. Hint: use the *.dag()* method to compute the transpose with QuTiP."
   ]
  },
  {
   "cell_type": "code",
   "execution_count": 2,
   "metadata": {},
   "outputs": [],
   "source": [
    "# YOUR CODE HERE\n",
    "bra0 = ket0.dag()\n",
    "bra1 = ket1.dag()"
   ]
  },
  {
   "cell_type": "markdown",
   "metadata": {},
   "source": [
    "b) Print them out using the *print(...)* command. Compare the with the lecture notes to makre sure they're correct."
   ]
  },
  {
   "cell_type": "code",
   "execution_count": 3,
   "metadata": {},
   "outputs": [
    {
     "name": "stdout",
     "output_type": "stream",
     "text": [
      "Quantum object: dims=[[1], [2]], shape=(1, 2), type='bra', dtype=Dense\n",
      "Qobj data =\n",
      "[[1. 0.]]\n",
      "Quantum object: dims=[[1], [2]], shape=(1, 2), type='bra', dtype=Dense\n",
      "Qobj data =\n",
      "[[0. 1.]]\n"
     ]
    }
   ],
   "source": [
    "# YOUR CODE HERE\n",
    "print(bra0)\n",
    "print(bra1)"
   ]
  },
  {
   "cell_type": "markdown",
   "metadata": {},
   "source": [
    "## 2) Extracting $\\alpha_0$, $\\alpha_1$"
   ]
  },
  {
   "cell_type": "markdown",
   "metadata": {},
   "source": [
    "We'd like to write some machinery where, when given some qubit $|\\psi\\rangle$, we can extract the probability amplitudes.\n",
    "\n",
    "Let's start with a concrete example:\n",
    "$$|\\psi\\rangle = \\frac{1}{\\sqrt{3}}|0\\rangle + \\sqrt{\\frac{2}{3}}|1\\rangle$$"
   ]
  },
  {
   "cell_type": "markdown",
   "metadata": {},
   "source": [
    "a) Similarly to how we did in lab 1, define the qubit above in code. Hint: the first line in the next cell imports the square root from Python's math library."
   ]
  },
  {
   "cell_type": "code",
   "execution_count": 6,
   "metadata": {},
   "outputs": [],
   "source": [
    "# YOUR CODE HERE\n",
    "from math import sqrt\n",
    "psi = 1/sqrt(3) * ket0 + sqrt(2/3) * ket1"
   ]
  },
  {
   "cell_type": "markdown",
   "metadata": {},
   "source": [
    "b) Multiply psi by the appropriate kets to get $\\alpha_0$, $\\alpha_1$:"
   ]
  },
  {
   "cell_type": "code",
   "execution_count": 10,
   "metadata": {},
   "outputs": [],
   "source": [
    "#YOUR CODE HERE\n",
    "alpha0 = bra0 * psi\n",
    "alpha1 = bra1 * psi"
   ]
  },
  {
   "cell_type": "markdown",
   "metadata": {},
   "source": [
    "c) Print out *psi*, *alpha0*, *alpha1*... do they match? They should up to ~8 places after the decimal."
   ]
  },
  {
   "cell_type": "code",
   "execution_count": 13,
   "metadata": {},
   "outputs": [
    {
     "name": "stdout",
     "output_type": "stream",
     "text": [
      "Quantum object: dims=[[2], [1]], shape=(2, 1), type='ket', dtype=Dense\n",
      "Qobj data =\n",
      "[[0.57735027]\n",
      " [0.81649658]]\n",
      "(0.5773502691896258+0j)\n",
      "(0.816496580927726+0j)\n"
     ]
    }
   ],
   "source": [
    "# YOUR CODE HERE\n",
    "print(psi)\n",
    "print(alpha0)\n",
    "print(alpha1)"
   ]
  },
  {
   "cell_type": "markdown",
   "metadata": {},
   "source": [
    "d) Wrap this functionality into a Python function, which takes in a qubit and returns a list, with the first entry for $\\alpha_0$ and the second for $\\alpha_1$."
   ]
  },
  {
   "cell_type": "code",
   "execution_count": 18,
   "metadata": {},
   "outputs": [],
   "source": [
    "def extract_alphas(qubit):\n",
    "    # YOUR CODE IN HERE\n",
    "    alpha0 = bra0 * qubit\n",
    "    alpha1 = bra1 * qubit\n",
    "    return [alpha0, alpha1] # FILL IN EMPTY LIST WITH ALPHAS"
   ]
  },
  {
   "cell_type": "markdown",
   "metadata": {},
   "source": [
    "e) Finally, define the following qubits and test out your brand new function:\n",
    "\n",
    "$$|\\psi_A\\rangle = \\frac{1}{\\sqrt{2}}|0\\rangle + \\frac{1}{\\sqrt{2}} |1\\rangle$$\n",
    "\n",
    "$$|\\psi_B\\rangle = \\frac{1}{2}|0\\rangle + \\frac{\\sqrt{3}}{2} |1\\rangle$$\n",
    "Once again, feel free to use the *sqrt(...)* function we imported earlier."
   ]
  },
  {
   "cell_type": "code",
   "execution_count": 21,
   "metadata": {},
   "outputs": [
    {
     "name": "stdout",
     "output_type": "stream",
     "text": [
      "[(0.7071067811865475+0j), (0.7071067811865475+0j)]\n",
      "[(0.5+0j), (0.8660254037844386+0j)]\n"
     ]
    }
   ],
   "source": [
    "# YOUR CODE HERE\n",
    "psiA = 1/sqrt(2)* ket0 + 1/sqrt(2) * ket1\n",
    "psiB = 1/2* ket0 + sqrt(3)/2 * ket1\n",
    "\n",
    "print(extract_alphas(psiA))\n",
    "print(extract_alphas(psiB))"
   ]
  },
  {
   "cell_type": "markdown",
   "metadata": {},
   "source": [
    "## 3) Extracting $P_0$, $P_1$  "
   ]
  },
  {
   "cell_type": "markdown",
   "metadata": {},
   "source": [
    "The probability amplitudes are a perfectly fine description of what's going on here, but they're not super intuitive. However, now that we can extract them, we can quickly convert them into probabilities.\n",
    "\n",
    "a) Write a new function that uses your *extract_alphas* function to extract the probabilities from any qubit. Similiarly, return a list with $P_0$, $P_1$."
   ]
  },
  {
   "cell_type": "code",
   "execution_count": 27,
   "metadata": {},
   "outputs": [
    {
     "name": "stdout",
     "output_type": "stream",
     "text": [
      "First print: 11\n",
      "Second print: 5\n"
     ]
    }
   ],
   "source": [
    "#Hint: you can access items in a list by indexing in them. For example\n",
    "myList = [11,5,7,8]\n",
    "# To access 11, the first entry, I would do myList[0]. Let's print it:\n",
    "print(\"First print:\", myList[0])\n",
    "# And similiar, to access 5, I would do myList[1]:\n",
    "print(\"Second print:\", myList[1])\n",
    "# Notice how the indices start at 0 not 1!"
   ]
  },
  {
   "cell_type": "code",
   "execution_count": 31,
   "metadata": {},
   "outputs": [],
   "source": [
    "def extract_probs(qubit):\n",
    "    # YOUR CODE HERE\n",
    "\n",
    "    alphas = extract_alphas(qubit)\n",
    "    alpha0 = alphas[0]\n",
    "    alpha1 = alphas[1]\n",
    "    \n",
    "    P0 = abs(alpha0)**2\n",
    "    P1 = abs(alpha1)**2\n",
    "\n",
    "    return [P0, P1] # FILL IN EMPTY LIST WITH PROBABILITIES\n",
    "    "
   ]
  },
  {
   "cell_type": "markdown",
   "metadata": {},
   "source": [
    "b) Test your function out on $|\\psi_A\\rangle$ and $\\psi_B\\rangle$ from above (no need to redfine them... this notebook keeps track of the variables you've already defined)."
   ]
  },
  {
   "cell_type": "code",
   "execution_count": 30,
   "metadata": {},
   "outputs": [
    {
     "name": "stdout",
     "output_type": "stream",
     "text": [
      "[0.4999999999999999, 0.4999999999999999]\n",
      "[0.25, 0.7499999999999999]\n"
     ]
    }
   ],
   "source": [
    "# YOUR CODE BELOW\n",
    "print(extract_probs(psiA))\n",
    "print(extract_probs(psiB))"
   ]
  },
  {
   "cell_type": "markdown",
   "metadata": {},
   "source": [
    "## 3) Bonus: Enforcing Normalization"
   ]
  },
  {
   "cell_type": "markdown",
   "metadata": {},
   "source": [
    "In lecture, we saw that a proper qubit must always lie along a circle of radius 1. This is because the proabilities of measuring $|0\\rangle$ and $|1\\rangle$ must add-up to 1.\n",
    "\n",
    "Suppose a stranger hands you a qubit. You'd like to write a QuTiP function that checks whether its length is 1 (is normalized). If it's not normalized, the return a new qubit that is!\n",
    "\n",
    "Hint 1: You've already done a lot of the work already! Make use of your *extract_probs* function to check that indeed these probabilities add correctly.\n",
    "\n",
    "Hint 2: To normalize a vector, you just divide it by its length."
   ]
  },
  {
   "cell_type": "code",
   "execution_count": 29,
   "metadata": {},
   "outputs": [],
   "source": [
    "def check_normaliztion(qubit):\n",
    "    # YOUR CODE HERE\n",
    "    probs = extract_probs(qubit)\n",
    "    if sum(probs) == 1:\n",
    "        return qubit\n",
    "    else:\n",
    "        return qubit/abs(qubit)"
   ]
  },
  {
   "cell_type": "code",
   "execution_count": null,
   "metadata": {},
   "outputs": [],
   "source": []
  }
 ],
 "metadata": {
  "kernelspec": {
   "display_name": "base",
   "language": "python",
   "name": "python3"
  },
  "language_info": {
   "codemirror_mode": {
    "name": "ipython",
    "version": 3
   },
   "file_extension": ".py",
   "mimetype": "text/x-python",
   "name": "python",
   "nbconvert_exporter": "python",
   "pygments_lexer": "ipython3",
   "version": "3.11.0"
  }
 },
 "nbformat": 4,
 "nbformat_minor": 2
}
