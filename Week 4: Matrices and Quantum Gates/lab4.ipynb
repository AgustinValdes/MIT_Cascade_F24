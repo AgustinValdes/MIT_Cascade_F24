{
 "cells": [
  {
   "cell_type": "markdown",
   "metadata": {},
   "source": [
    "## 0) Import QuTiP, Define Kets"
   ]
  },
  {
   "cell_type": "code",
   "execution_count": 2,
   "metadata": {},
   "outputs": [],
   "source": [
    "from qutip import *\n",
    "from math import sqrt\n",
    "\n",
    "ket0 = basis(2,0)\n",
    "ket1 = basis(2,1)"
   ]
  },
  {
   "cell_type": "markdown",
   "metadata": {},
   "source": [
    "## 1) Defining Common Gates in Qutip"
   ]
  },
  {
   "cell_type": "markdown",
   "metadata": {},
   "source": [
    "We'll start by defining the following common gates in QuTiP. \n",
    "\n",
    "I'll define the Hadamard gate for you, and you can pattern match to define the rest:\n",
    "\n",
    "$$\\hat{H} = \\frac{1}{\\sqrt{2}}\\begin{pmatrix}1&1\\\\1&-1\\end{pmatrix}$$"
   ]
  },
  {
   "cell_type": "code",
   "execution_count": 5,
   "metadata": {},
   "outputs": [],
   "source": [
    "H = Qobj(\n",
    "    [[1/sqrt(2),  1/sqrt(2)],\n",
    "     [1/sqrt(2), -1/sqrt(2)]]\n",
    "    )"
   ]
  },
  {
   "cell_type": "markdown",
   "metadata": {},
   "source": [
    "a) Now define $\\hat{X}$, $\\hat{Y}$, and $\\hat{Z}$. Note I've defined the imaginary unit, $i$, for you."
   ]
  },
  {
   "cell_type": "code",
   "execution_count": 6,
   "metadata": {},
   "outputs": [],
   "source": [
    "i = 1j\n",
    "\n",
    "X = Qobj()\n",
    "\n",
    "Y = Qobj()\n",
    "\n",
    "Z = Qobj()"
   ]
  },
  {
   "cell_type": "markdown",
   "metadata": {},
   "source": [
    "b) Verify the identities we proved at the end of the class using QuTiP:\n",
    "\n",
    "$$\\hat{H}\\hat{H} = \\hat{I}$$\n",
    "$$\\hat{H}\\hat{Z}\\hat{H} = \\hat{X}$$\n",
    "\n",
    "Hint: I've defined the identity matrix for you."
   ]
  },
  {
   "cell_type": "code",
   "execution_count": 3,
   "metadata": {},
   "outputs": [],
   "source": [
    "I = qeye(2)\n",
    "\n",
    "# YOUR CODE HERE\n",
    "\n"
   ]
  },
  {
   "cell_type": "markdown",
   "metadata": {},
   "source": [
    "## 2) Our first quantum circuit"
   ]
  },
  {
   "cell_type": "markdown",
   "metadata": {},
   "source": [
    "Now that we've defined a few of the basic quantum gates, let's string them together into quantum circuit:"
   ]
  },
  {
   "cell_type": "markdown",
   "metadata": {},
   "source": [
    "![title](first.jpg)"
   ]
  },
  {
   "cell_type": "markdown",
   "metadata": {},
   "source": [
    "a) Define the initial state *ket_init* being fed into the quantum circuit. Hint, recall that the $|+\\rangle$ state is defined, in terms of $|0\\rangle$, $|1\\rangle$ as \n",
    "\n",
    "$$|+\\rangle = \\frac{1}{\\sqrt{2}} (|0\\rangle + |1\\rangle)$$"
   ]
  },
  {
   "cell_type": "code",
   "execution_count": 8,
   "metadata": {},
   "outputs": [],
   "source": [
    "# YOUR CODE HERE\n",
    "ket_init = "
   ]
  },
  {
   "cell_type": "markdown",
   "metadata": {},
   "source": [
    "b) Define a final state *ket_final* that results after you put the initial state through the quantum circuit above. Be careful! What operation is applied first? What comes next? Last?"
   ]
  },
  {
   "cell_type": "code",
   "execution_count": 9,
   "metadata": {},
   "outputs": [],
   "source": [
    "# YOUR CODE HERE\n",
    "# Be careful! What gets applied to the initial state first?\n",
    "\n",
    "ket_final = "
   ]
  },
  {
   "cell_type": "markdown",
   "metadata": {},
   "source": [
    "c) Print the final state; you should have gotten the $|1\\rangle$ state."
   ]
  },
  {
   "cell_type": "code",
   "execution_count": 4,
   "metadata": {},
   "outputs": [],
   "source": [
    "# YOUR CODE HERE\n"
   ]
  },
  {
   "cell_type": "markdown",
   "metadata": {},
   "source": [
    "## 3) Circuit reduction"
   ]
  },
  {
   "cell_type": "markdown",
   "metadata": {},
   "source": [
    "Take a look at the following circuit:\n",
    "\n",
    "![title](reduce.jpg)\n",
    "\n",
    "\n",
    "I'll tell you right now, it's pretty inefficient! There are several blocks of gates that can reduced into a single (or fewer) gates. Circuit reduction, both quantum and classical, is an important step in making an efficient hardware/algorithms."
   ]
  },
  {
   "cell_type": "markdown",
   "metadata": {},
   "source": [
    "a) For each block above, multiply the operators together (in order) and check whether they reduce to any of the gates you've defined above.\n",
    "\n",
    "- Hint 1: print out the resulting matrix\n",
    "- Sometimes numerical errors make it so that some numbers are basically 0 (but are not in fact 0). For example, $0 \\approx 10^{-27}$. Treat these as 0 (or whichever number they're closest to)."
   ]
  },
  {
   "cell_type": "code",
   "execution_count": 5,
   "metadata": {},
   "outputs": [],
   "source": [
    "# YOUR CODE HERE\n"
   ]
  },
  {
   "cell_type": "markdown",
   "metadata": {},
   "source": [
    "b) Draw what the circuit reduces to on the blank side of your class notes"
   ]
  }
 ],
 "metadata": {
  "kernelspec": {
   "display_name": "Python 3",
   "language": "python",
   "name": "python3"
  },
  "language_info": {
   "codemirror_mode": {
    "name": "ipython",
    "version": 3
   },
   "file_extension": ".py",
   "mimetype": "text/x-python",
   "name": "python",
   "nbconvert_exporter": "python",
   "pygments_lexer": "ipython3",
   "version": "3.11.0"
  }
 },
 "nbformat": 4,
 "nbformat_minor": 2
}
