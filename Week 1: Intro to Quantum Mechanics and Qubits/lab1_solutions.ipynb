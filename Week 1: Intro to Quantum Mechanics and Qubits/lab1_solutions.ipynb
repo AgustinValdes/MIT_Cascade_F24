{
 "cells": [
  {
   "cell_type": "markdown",
   "metadata": {},
   "source": [
    "# Main: Build Your First Qubit"
   ]
  },
  {
   "cell_type": "markdown",
   "metadata": {},
   "source": [
    "We'll start by importing QuTiP (Quantum Toolbox in Python). The following line of code reads \"from QuTiP, import everything\""
   ]
  },
  {
   "cell_type": "code",
   "execution_count": 2,
   "metadata": {},
   "outputs": [],
   "source": [
    "from qutip import *"
   ]
  },
  {
   "cell_type": "markdown",
   "metadata": {},
   "source": [
    "We learned that mathematically, a qubit is a *superposition* of $|0\\rangle$ and $|1\\rangle$ quantum states; these represent the different measurement outcomes that are possible:\n",
    "\n",
    "$$|\\psi\\rangle = \\alpha_0 |0\\rangle + \\alpha_1 |1\\rangle$$\n",
    "\n",
    "The sum is weighted by the probability amplitudes $\\alpha_0$ and $\\alpha_1$. Remember that the probability of the qubit being measured in state $|0\\rangle$ is $P_0 = |\\alpha_0|^2$. Similarly, the probability of the qubit being measured in state $|1\\rangle$ is $P_1 = |\\alpha_1|^2$. "
   ]
  },
  {
   "cell_type": "markdown",
   "metadata": {},
   "source": [
    "### Problem 1: Build your first qubit\n",
    "\n",
    "We'll get you started by defining $|0\\rangle$ and $|1\\rangle$ in Python using QuTiP; let's call them 'ket0' and 'ket1' respectively.\n"
   ]
  },
  {
   "cell_type": "code",
   "execution_count": 3,
   "metadata": {},
   "outputs": [],
   "source": [
    "ket0 = basis(2,0)\n",
    "ket1 = basis(2,1)"
   ]
  },
  {
   "cell_type": "markdown",
   "metadata": {},
   "source": [
    "The first argument (AKA input) to *basis* is the number of outcomes. For a qubit, there are only two! The second argument selects the state, so $0 \\rightarrow |0\\rangle$ and  $1 \\rightarrow |1\\rangle$."
   ]
  },
  {
   "cell_type": "markdown",
   "metadata": {},
   "source": [
    "Task 1: Define variables *P0*, *P1*, corresponding to the probabilities of getting outcome $|0\\rangle$ and $|1\\rangle$; assign both of them 0.5 (50-50 split):"
   ]
  },
  {
   "cell_type": "code",
   "execution_count": 6,
   "metadata": {},
   "outputs": [],
   "source": [
    "P0 = 0.5\n",
    "P1 = 0.5"
   ]
  },
  {
   "cell_type": "markdown",
   "metadata": {},
   "source": [
    "Task 2: Define variables *alpha0*, *alpha1*, the probability amplitudes associated with *P0* and *P1*. Hint: to square root a number in Python, say x, the syntax is x**0.5: "
   ]
  },
  {
   "cell_type": "code",
   "execution_count": 7,
   "metadata": {},
   "outputs": [],
   "source": [
    "alpha0 = P0**0.5\n",
    "alpha1 = P1**0.5"
   ]
  },
  {
   "cell_type": "markdown",
   "metadata": {},
   "source": [
    "Task 3: Define a variable to store our qubit *psi* and assign it the following equation:\n",
    "\n",
    "$$|\\psi\\rangle = \\alpha_0 |0\\rangle + \\alpha_1|1\\rangle$$\n",
    "\n",
    "Hint: You've already defined all the variables above. In particular, you'll need to build your qubit out of *alpha0*, *alpha1*, *ket0*, and *ket1*."
   ]
  },
  {
   "cell_type": "code",
   "execution_count": 54,
   "metadata": {},
   "outputs": [],
   "source": [
    "psi = alpha0 * ket0 + alpha1 * ket1"
   ]
  },
  {
   "cell_type": "markdown",
   "metadata": {},
   "source": [
    "As a sanity check, print *psi* by running the cell below. If you've completed the above steps correctly, then your qubit should read...\n",
    "\n",
    "```\n",
    "    Quantum object: dims=[[2], [1]], shape=(2, 1), type='ket', dtype=Dense\n",
    "    Qobj data =\n",
    "    [[0.70710678]\n",
    "    [0.70710678]]\n",
    " ```\n",
    "If you get an error or the numbers in your printout look different, ask your partners, and if y'all are stumped... ask me! "
   ]
  },
  {
   "cell_type": "code",
   "execution_count": 55,
   "metadata": {},
   "outputs": [
    {
     "name": "stdout",
     "output_type": "stream",
     "text": [
      "Quantum object: dims=[[2], [1]], shape=(2, 1), type='ket', dtype=Dense\n",
      "Qobj data =\n",
      "[[0.70710678]\n",
      " [0.70710678]]\n"
     ]
    }
   ],
   "source": [
    "print(psi)"
   ]
  },
  {
   "cell_type": "markdown",
   "metadata": {},
   "source": [
    "## Bonus: Normalization Condition \n",
    "\n",
    "The fact that $\\alpha_0$ and $\\alpha_1$ are related to probabilities means that these can't just be *any* numbers. This puts a condition on our qubits: they need to be *normalized*. \n",
    "\n",
    "Essentially what this means is that $P_0 + P_1 = 1$ (for a qubit) and therefore $|\\alpha_0|^2 + |\\alpha_1|^2 = 1$. If these two equations seem unfamiliar, check out the preface to Problem 1."
   ]
  },
  {
   "cell_type": "markdown",
   "metadata": {},
   "source": [
    "### Problem 2: Enforce the normalization condition\n",
    "\n",
    "Suppose we're given a qubit, we'd like to know if it is normalized or not. \n",
    "\n",
    "Task 1: We'll write a Python function to do this for us. In the first two lines of the function, we define $\\alpha_0$ and $\\alpha_1$ for you. We'll learn later that we are applying a *projective quantum measurement* in these lines to get $\\alpha_0$ and $\\alpha_1$."
   ]
  },
  {
   "cell_type": "code",
   "execution_count": 48,
   "metadata": {},
   "outputs": [],
   "source": [
    "def qubit_is_normalized(qubit):\n",
    "    \n",
    "    alpha0 = ket0.dag() * qubit\n",
    "    alpha1 = ket1.dag() * qubit\n",
    "\n",
    "    '''\n",
    "    TODO: turn the following pseudocode (fake code) into working Python code\n",
    "\n",
    "\n",
    "    if normalization condition met, \n",
    "        return True\n",
    "    otherwise,\n",
    "        return False\n",
    "\n",
    "    Hint 1: |x| in Python is given by abs(x)\n",
    "    Hint 2: x^2 (squaring) in Python is given by x**2\n",
    "    Hint 3: In order for the logic to work correctly, you'll need to take the result of the normalization condition, \n",
    "            and round it to at least 1 decimal place. You can round a number x to 1 decimal place in Python by doing round(x, 2)\n",
    "    '''\n",
    "\n",
    "    if round(abs(alpha0)**2 + abs(alpha1)**2, 2) == 1.0:\n",
    "        return True\n",
    "    else:\n",
    "        return False"
   ]
  },
  {
   "cell_type": "markdown",
   "metadata": {},
   "source": [
    "Task 2: Check that your qubit from Problem 1: *psi* is normalized... it should be!"
   ]
  },
  {
   "cell_type": "code",
   "execution_count": 49,
   "metadata": {},
   "outputs": [
    {
     "data": {
      "text/plain": [
       "True"
      ]
     },
     "execution_count": 49,
     "metadata": {},
     "output_type": "execute_result"
    }
   ],
   "source": [
    "qubit_is_normalized(psi)"
   ]
  },
  {
   "cell_type": "markdown",
   "metadata": {},
   "source": [
    "What about the following test qubits? If your function is correct, the first should print *False*, the second should print *True*."
   ]
  },
  {
   "cell_type": "code",
   "execution_count": 53,
   "metadata": {},
   "outputs": [
    {
     "name": "stdout",
     "output_type": "stream",
     "text": [
      "False\n",
      "True\n"
     ]
    }
   ],
   "source": [
    "test_qubit1 = ket0 + ket1\n",
    "test_qubit2 = (3**0.5)/2 * ket0 + 1/2 * ket1\n",
    "\n",
    "print(qubit_is_normalized(test_qubit1))\n",
    "print(qubit_is_normalized(test_qubit2))"
   ]
  }
 ],
 "metadata": {
  "kernelspec": {
   "display_name": "base",
   "language": "python",
   "name": "python3"
  },
  "language_info": {
   "codemirror_mode": {
    "name": "ipython",
    "version": 3
   },
   "file_extension": ".py",
   "mimetype": "text/x-python",
   "name": "python",
   "nbconvert_exporter": "python",
   "pygments_lexer": "ipython3",
   "version": "3.11.0"
  }
 },
 "nbformat": 4,
 "nbformat_minor": 2
}
